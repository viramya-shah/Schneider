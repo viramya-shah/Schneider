{
 "cells": [
  {
   "cell_type": "code",
   "execution_count": 1,
   "metadata": {},
   "outputs": [],
   "source": [
    "import numpy as np\n",
    "import pandas as pd\n",
    "import matplotlib.pyplot as plt\n",
    "from itertools import chain\n",
    "from collections import Counter"
   ]
  },
  {
   "cell_type": "code",
   "execution_count": 28,
   "metadata": {},
   "outputs": [
    {
     "name": "stdout",
     "output_type": "stream",
     "text": [
      "Data has 6234 rows and 12 columns\n"
     ]
    },
    {
     "data": {
      "text/html": [
       "<div>\n",
       "<style scoped>\n",
       "    .dataframe tbody tr th:only-of-type {\n",
       "        vertical-align: middle;\n",
       "    }\n",
       "\n",
       "    .dataframe tbody tr th {\n",
       "        vertical-align: top;\n",
       "    }\n",
       "\n",
       "    .dataframe thead th {\n",
       "        text-align: right;\n",
       "    }\n",
       "</style>\n",
       "<table border=\"1\" class=\"dataframe\">\n",
       "  <thead>\n",
       "    <tr style=\"text-align: right;\">\n",
       "      <th></th>\n",
       "      <th>show_id</th>\n",
       "      <th>type</th>\n",
       "      <th>title</th>\n",
       "      <th>director</th>\n",
       "      <th>cast</th>\n",
       "      <th>country</th>\n",
       "      <th>date_added</th>\n",
       "      <th>release_year</th>\n",
       "      <th>rating</th>\n",
       "      <th>duration</th>\n",
       "      <th>listed_in</th>\n",
       "      <th>description</th>\n",
       "    </tr>\n",
       "  </thead>\n",
       "  <tbody>\n",
       "    <tr>\n",
       "      <th>0</th>\n",
       "      <td>81145628</td>\n",
       "      <td>Movie</td>\n",
       "      <td>Norm of the North: King Sized Adventure</td>\n",
       "      <td>Richard Finn, Tim Maltby</td>\n",
       "      <td>Alan Marriott, Andrew Toth, Brian Dobson, Cole...</td>\n",
       "      <td>United States, India, South Korea, China</td>\n",
       "      <td>September 9, 2019</td>\n",
       "      <td>2019</td>\n",
       "      <td>TV-PG</td>\n",
       "      <td>90 min</td>\n",
       "      <td>Children &amp; Family Movies, Comedies</td>\n",
       "      <td>Before planning an awesome wedding for his gra...</td>\n",
       "    </tr>\n",
       "    <tr>\n",
       "      <th>1</th>\n",
       "      <td>80117401</td>\n",
       "      <td>Movie</td>\n",
       "      <td>Jandino: Whatever it Takes</td>\n",
       "      <td>NaN</td>\n",
       "      <td>Jandino Asporaat</td>\n",
       "      <td>United Kingdom</td>\n",
       "      <td>September 9, 2016</td>\n",
       "      <td>2016</td>\n",
       "      <td>TV-MA</td>\n",
       "      <td>94 min</td>\n",
       "      <td>Stand-Up Comedy</td>\n",
       "      <td>Jandino Asporaat riffs on the challenges of ra...</td>\n",
       "    </tr>\n",
       "    <tr>\n",
       "      <th>2</th>\n",
       "      <td>70234439</td>\n",
       "      <td>TV Show</td>\n",
       "      <td>Transformers Prime</td>\n",
       "      <td>NaN</td>\n",
       "      <td>Peter Cullen, Sumalee Montano, Frank Welker, J...</td>\n",
       "      <td>United States</td>\n",
       "      <td>September 8, 2018</td>\n",
       "      <td>2013</td>\n",
       "      <td>TV-Y7-FV</td>\n",
       "      <td>1 Season</td>\n",
       "      <td>Kids' TV</td>\n",
       "      <td>With the help of three human allies, the Autob...</td>\n",
       "    </tr>\n",
       "  </tbody>\n",
       "</table>\n",
       "</div>"
      ],
      "text/plain": [
       "    show_id     type                                    title  \\\n",
       "0  81145628    Movie  Norm of the North: King Sized Adventure   \n",
       "1  80117401    Movie               Jandino: Whatever it Takes   \n",
       "2  70234439  TV Show                       Transformers Prime   \n",
       "\n",
       "                   director  \\\n",
       "0  Richard Finn, Tim Maltby   \n",
       "1                       NaN   \n",
       "2                       NaN   \n",
       "\n",
       "                                                cast  \\\n",
       "0  Alan Marriott, Andrew Toth, Brian Dobson, Cole...   \n",
       "1                                   Jandino Asporaat   \n",
       "2  Peter Cullen, Sumalee Montano, Frank Welker, J...   \n",
       "\n",
       "                                    country         date_added  release_year  \\\n",
       "0  United States, India, South Korea, China  September 9, 2019          2019   \n",
       "1                            United Kingdom  September 9, 2016          2016   \n",
       "2                             United States  September 8, 2018          2013   \n",
       "\n",
       "     rating  duration                           listed_in  \\\n",
       "0     TV-PG    90 min  Children & Family Movies, Comedies   \n",
       "1     TV-MA    94 min                     Stand-Up Comedy   \n",
       "2  TV-Y7-FV  1 Season                            Kids' TV   \n",
       "\n",
       "                                         description  \n",
       "0  Before planning an awesome wedding for his gra...  \n",
       "1  Jandino Asporaat riffs on the challenges of ra...  \n",
       "2  With the help of three human allies, the Autob...  "
      ]
     },
     "execution_count": 28,
     "metadata": {},
     "output_type": "execute_result"
    }
   ],
   "source": [
    "df = pd.read_csv(\"./data/input/netflix_titles.csv\")\n",
    "print (\"Data has {} rows and {} columns\".format(df.shape[0], df.shape[1]))\n",
    "df.head(3)"
   ]
  },
  {
   "cell_type": "code",
   "execution_count": 3,
   "metadata": {},
   "outputs": [
    {
     "data": {
      "image/png": "[encoded data removed]",
      "text/plain": [
       "<Figure size 432x288 with 1 Axes>"
      ]
     },
     "metadata": {},
     "output_type": "display_data"
    }
   ],
   "source": [
    "# type distribution\n",
    "ax = df.type.value_counts().plot(\n",
    "    kind = 'pie', \n",
    "    title = 'Type distribution',\n",
    "    autopct='%1.1f%%', \n",
    "    shadow=True, \n",
    "    explode=(0, 0.1)\n",
    ")"
   ]
  },
  {
   "cell_type": "code",
   "execution_count": 4,
   "metadata": {},
   "outputs": [
    {
     "data": {
      "text/plain": [
       "<AxesSubplot:title={'center':'Rating Distribution'}>"
      ]
     },
     "execution_count": 4,
     "metadata": {},
     "output_type": "execute_result"
    },
    {
     "data": {
      "image/png": "[encoded data removed]",
      "text/plain": [
       "<Figure size 432x288 with 1 Axes>"
      ]
     },
     "metadata": {
      "needs_background": "light"
     },
     "output_type": "display_data"
    }
   ],
   "source": [
    "# rating distribution\n",
    "df.rating.value_counts().sort_values(ascending = False).plot(\n",
    "    kind = 'bar', \n",
    "    title = 'Rating Distribution'\n",
    ")"
   ]
  },
  {
   "cell_type": "code",
   "execution_count": 5,
   "metadata": {},
   "outputs": [
    {
     "name": "stdout",
     "output_type": "stream",
     "text": [
      "Note: # represents null value\n"
     ]
    },
    {
     "data": {
      "text/plain": [
       "Text(0, 0.5, 'Count')"
      ]
     },
     "execution_count": 5,
     "metadata": {},
     "output_type": "execute_result"
    },
    {
     "data": {
      "image/png": "[encoded data removed]",
      "text/plain": [
       "<Figure size 432x288 with 1 Axes>"
      ]
     },
     "metadata": {
      "needs_background": "light"
     },
     "output_type": "display_data"
    }
   ],
   "source": [
    "# Countries with maximum production \n",
    "df.country.fillna('#', inplace = True)\n",
    "df['country_edit'] = df.country.apply(lambda x: x.split(', '))\n",
    "dict_country = Counter(list(chain.from_iterable(df.country_edit)))\n",
    "x = dict_country.most_common(5)\n",
    "d = {i[0]: i[1] for i in x}\n",
    "print (\"Note: # represents null value\")\n",
    "plt.bar(d.keys(), d.values())\n",
    "plt.title(\"Countries with maximum production\")\n",
    "plt.xlabel(\"Countries\")\n",
    "plt.ylabel(\"Count\")"
   ]
  },
  {
   "cell_type": "code",
   "execution_count": 6,
   "metadata": {},
   "outputs": [
    {
     "name": "stdout",
     "output_type": "stream",
     "text": [
      "Note: # represents null\n"
     ]
    },
    {
     "data": {
      "text/plain": [
       "Text(0, 0.5, 'Count')"
      ]
     },
     "execution_count": 6,
     "metadata": {},
     "output_type": "execute_result"
    },
    {
     "data": {
      "image/png": "[encoded data removed]",
      "text/plain": [
       "<Figure size 432x288 with 1 Axes>"
      ]
     },
     "metadata": {
      "needs_background": "light"
     },
     "output_type": "display_data"
    }
   ],
   "source": [
    "# media distribution\n",
    "if df.listed_in.isna().any():\n",
    "    df.listed_in.fillna('#', inplace = True)\n",
    "\n",
    "df['listed_in_edit'] = df.listed_in.apply(lambda x: x.split(', '))\n",
    "dict_genre = Counter(list(chain.from_iterable(df.listed_in_edit)))\n",
    "x = dict_genre.most_common(5)\n",
    "d = {i[0]: i[1] for i in x}\n",
    "print ('Note: # represents null')\n",
    "plt.xticks(rotation = 45)\n",
    "plt.bar(d.keys(), d.values())\n",
    "plt.title(\"Media distribution\")\n",
    "plt.xlabel(\"Media\")\n",
    "plt.ylabel(\"Count\")"
   ]
  },
  {
   "cell_type": "code",
   "execution_count": 7,
   "metadata": {},
   "outputs": [],
   "source": [
    "# duration\n",
    "def clean_duration(x):\n",
    "    if 'Season' in x:\n",
    "        return int(x.split()[0])*60\n",
    "    return int(x.split()[0])\n",
    "    \n",
    "df['duration_edit'] = df.duration.apply(clean_duration)"
   ]
  },
  {
   "cell_type": "code",
   "execution_count": 8,
   "metadata": {},
   "outputs": [
    {
     "data": {
      "text/plain": [
       "type\n",
       "Movie      AxesSubplot(0.125,0.125;0.775x0.755)\n",
       "TV Show    AxesSubplot(0.125,0.125;0.775x0.755)\n",
       "Name: duration_edit, dtype: object"
      ]
     },
     "execution_count": 8,
     "metadata": {},
     "output_type": "execute_result"
    },
    {
     "data": {
      "image/png": "[encoded data removed]",
      "text/plain": [
       "<Figure size 432x288 with 1 Axes>"
      ]
     },
     "metadata": {
      "needs_background": "light"
     },
     "output_type": "display_data"
    }
   ],
   "source": [
    "df.groupby(by = 'type')['duration_edit'].plot(\n",
    "    kind = 'hist', \n",
    "    alpha = 0.5, \n",
    "    bins = 25, \n",
    "    legend = True,\n",
    "    title = 'Aggregated duration'\n",
    ")"
   ]
  },
  {
   "cell_type": "code",
   "execution_count": 9,
   "metadata": {},
   "outputs": [],
   "source": [
    "# increase over year\n",
    "df['date_added'] = pd.to_datetime(df.date_added)\n",
    "df['year_edit'] = df.date_added.apply(lambda x: x.year)\n",
    "df.year_edit.fillna('2014', inplace = True)"
   ]
  },
  {
   "cell_type": "code",
   "execution_count": 10,
   "metadata": {},
   "outputs": [],
   "source": [
    "df['year_edit'] = df.year_edit.astype(int)"
   ]
  },
  {
   "cell_type": "code",
   "execution_count": 11,
   "metadata": {},
   "outputs": [
    {
     "data": {
      "text/plain": [
       "<AxesSubplot:ylabel='Frequency'>"
      ]
     },
     "execution_count": 11,
     "metadata": {},
     "output_type": "execute_result"
    },
    {
     "data": {
      "image/png": "[encoded data removed]",
      "text/plain": [
       "<Figure size 432x288 with 1 Axes>"
      ]
     },
     "metadata": {
      "needs_background": "light"
     },
     "output_type": "display_data"
    }
   ],
   "source": [
    "df.groupby(by = 'year_edit')['show_id'].count().plot(kind = 'hist', bins = 25)"
   ]
  },
  {
   "cell_type": "code",
   "execution_count": 15,
   "metadata": {},
   "outputs": [],
   "source": [
    "genres = set(chain.from_iterable(df.listed_in_edit))"
   ]
  },
  {
   "cell_type": "code",
   "execution_count": 18,
   "metadata": {},
   "outputs": [
    {
     "data": {
      "text/plain": [
       "{'Action & Adventure',\n",
       " 'Anime Features',\n",
       " 'Anime Series',\n",
       " 'British TV Shows',\n",
       " 'Children & Family Movies',\n",
       " 'Classic & Cult TV',\n",
       " 'Classic Movies',\n",
       " 'Comedies',\n",
       " 'Crime TV Shows',\n",
       " 'Cult Movies',\n",
       " 'Documentaries',\n",
       " 'Docuseries',\n",
       " 'Dramas',\n",
       " 'Faith & Spirituality',\n",
       " 'Horror Movies',\n",
       " 'Independent Movies',\n",
       " 'International Movies',\n",
       " 'International TV Shows',\n",
       " \"Kids' TV\",\n",
       " 'Korean TV Shows',\n",
       " 'LGBTQ Movies',\n",
       " 'Movies',\n",
       " 'Music & Musicals',\n",
       " 'Reality TV',\n",
       " 'Romantic Movies',\n",
       " 'Romantic TV Shows',\n",
       " 'Sci-Fi & Fantasy',\n",
       " 'Science & Nature TV',\n",
       " 'Spanish-Language TV Shows',\n",
       " 'Sports Movies',\n",
       " 'Stand-Up Comedy',\n",
       " 'Stand-Up Comedy & Talk Shows',\n",
       " 'TV Action & Adventure',\n",
       " 'TV Comedies',\n",
       " 'TV Dramas',\n",
       " 'TV Horror',\n",
       " 'TV Mysteries',\n",
       " 'TV Sci-Fi & Fantasy',\n",
       " 'TV Shows',\n",
       " 'TV Thrillers',\n",
       " 'Teen TV Shows',\n",
       " 'Thrillers'}"
      ]
     },
     "execution_count": 18,
     "metadata": {},
     "output_type": "execute_result"
    }
   ],
   "source": [
    "genres"
   ]
  },
  {
   "cell_type": "markdown",
   "metadata": {},
   "source": [
    "# making file"
   ]
  },
  {
   "cell_type": "code",
   "execution_count": 30,
   "metadata": {},
   "outputs": [],
   "source": [
    "df = df[df.type == 'Movie'].reset_index(drop = True)"
   ]
  },
  {
   "cell_type": "code",
   "execution_count": 65,
   "metadata": {},
   "outputs": [],
   "source": [
    "df.director.fillna('', inplace = True)"
   ]
  },
  {
   "cell_type": "code",
   "execution_count": 66,
   "metadata": {},
   "outputs": [],
   "source": [
    "def removeNonAscii(s): return \"\".join(i for i in s if ord(i)<128)"
   ]
  },
  {
   "cell_type": "code",
   "execution_count": 68,
   "metadata": {},
   "outputs": [
    {
     "data": {
      "text/plain": [
       "0              Richard Finn, Tim Maltby\n",
       "1                                      \n",
       "2                      Fernando Lebrija\n",
       "3                             Gabe Ibez\n",
       "4       Rodrigo Toro, Francisco Schultz\n",
       "                     ...               \n",
       "4260                   G.J. Echternkamp\n",
       "4261                   G.J. Echternkamp\n",
       "4262                     Zatella Beatty\n",
       "4263                         Vlad Yudin\n",
       "4264                                   \n",
       "Name: director, Length: 4265, dtype: object"
      ]
     },
     "execution_count": 68,
     "metadata": {},
     "output_type": "execute_result"
    }
   ],
   "source": [
    "df.director.apply(removeNonAscii)"
   ]
  },
  {
   "cell_type": "code",
   "execution_count": 60,
   "metadata": {},
   "outputs": [
    {
     "data": {
      "text/plain": [
       "{0: 'G',\n",
       " 1: 'NC-17',\n",
       " 2: 'NR',\n",
       " 3: 'PG',\n",
       " 4: 'PG-13',\n",
       " 5: 'R',\n",
       " 6: 'TV-14',\n",
       " 7: 'TV-G',\n",
       " 8: 'TV-MA',\n",
       " 9: 'TV-PG',\n",
       " 10: 'TV-Y',\n",
       " 11: 'TV-Y7',\n",
       " 12: 'TV-Y7-FV',\n",
       " 13: 'UR'}"
      ]
     },
     "execution_count": 60,
     "metadata": {},
     "output_type": "execute_result"
    }
   ],
   "source": [
    "df['rating'] = df.rating.astype('category')\n",
    "{i: j for i, j in enumerate(df.rating.cat.categories)}   "
   ]
  },
  {
   "cell_type": "code",
   "execution_count": 47,
   "metadata": {},
   "outputs": [
    {
     "data": {
      "text/plain": [
       "8"
      ]
     },
     "execution_count": 47,
     "metadata": {},
     "output_type": "execute_result"
    }
   ],
   "source": [
    "sum(df.rating.isna())"
   ]
  },
  {
   "cell_type": "code",
   "execution_count": 44,
   "metadata": {},
   "outputs": [
    {
     "data": {
      "text/plain": [
       "True"
      ]
     },
     "execution_count": 44,
     "metadata": {},
     "output_type": "execute_result"
    }
   ],
   "source": [
    "sum(df.country.isna()) < 0.05*len(df)"
   ]
  },
  {
   "cell_type": "code",
   "execution_count": 41,
   "metadata": {},
   "outputs": [
    {
     "data": {
      "text/plain": [
       "0       False\n",
       "1        True\n",
       "2       False\n",
       "3       False\n",
       "4       False\n",
       "        ...  \n",
       "4260    False\n",
       "4261    False\n",
       "4262    False\n",
       "4263    False\n",
       "4264     True\n",
       "Name: director, Length: 4265, dtype: bool"
      ]
     },
     "execution_count": 41,
     "metadata": {},
     "output_type": "execute_result"
    }
   ],
   "source": [
    "df['director'].isna()"
   ]
  },
  {
   "cell_type": "code",
   "execution_count": 33,
   "metadata": {},
   "outputs": [
    {
     "data": {
      "text/plain": [
       "False"
      ]
     },
     "execution_count": 33,
     "metadata": {},
     "output_type": "execute_result"
    }
   ],
   "source": [
    "df.duration.isna().any()"
   ]
  },
  {
   "cell_type": "code",
   "execution_count": 69,
   "metadata": {},
   "outputs": [],
   "source": [
    "df['desc_len'] = df.description.apply(lambda x: len(x.split()))"
   ]
  },
  {
   "cell_type": "code",
   "execution_count": 71,
   "metadata": {},
   "outputs": [
    {
     "data": {
      "text/plain": [
       "<AxesSubplot:ylabel='Frequency'>"
      ]
     },
     "execution_count": 71,
     "metadata": {},
     "output_type": "execute_result"
    },
    {
     "data": {
      "image/png": "[encoded data removed]",
      "text/plain": [
       "<Figure size 432x288 with 1 Axes>"
      ]
     },
     "metadata": {
      "needs_background": "light"
     },
     "output_type": "display_data"
    }
   ],
   "source": [
    "df.desc_len.plot(kind = 'hist')"
   ]
  },
  {
   "cell_type": "code",
   "execution_count": 80,
   "metadata": {},
   "outputs": [],
   "source": [
    "df_clean = pd.read_csv(\"./data/output/clean_data.csv\")"
   ]
  },
  {
   "cell_type": "code",
   "execution_count": 89,
   "metadata": {},
   "outputs": [],
   "source": [
    "genre = []\n",
    "for i in df.listed_in:\n",
    "    for j in str(i).split(\", \"):\n",
    "        genre.append(j)"
   ]
  },
  {
   "cell_type": "code",
   "execution_count": 129,
   "metadata": {},
   "outputs": [
    {
     "data": {
      "text/plain": [
       "Counter({'Children & Family Movies': 378,\n",
       "         'Comedies': 1113,\n",
       "         'Stand-Up Comedy': 281,\n",
       "         'International Movies': 1927,\n",
       "         'Sci-Fi & Fantasy': 193,\n",
       "         'Thrillers': 392,\n",
       "         'Action & Adventure': 597,\n",
       "         'Dramas': 1623,\n",
       "         'Cult Movies': 55,\n",
       "         'Independent Movies': 552,\n",
       "         'Romantic Movies': 376,\n",
       "         'Documentaries': 668,\n",
       "         'Horror Movies': 262,\n",
       "         'Music & Musicals': 243,\n",
       "         'Anime Features': 45,\n",
       "         'Faith & Spirituality': 47,\n",
       "         'LGBTQ Movies': 60,\n",
       "         'Movies': 56,\n",
       "         'Classic Movies': 84,\n",
       "         'Sports Movies': 157})"
      ]
     },
     "execution_count": 129,
     "metadata": {},
     "output_type": "execute_result"
    }
   ],
   "source": [
    "Counter(genre)"
   ]
  },
  {
   "cell_type": "code",
   "execution_count": 94,
   "metadata": {},
   "outputs": [
    {
     "data": {
      "text/plain": [
       "20"
      ]
     },
     "execution_count": 94,
     "metadata": {},
     "output_type": "execute_result"
    }
   ],
   "source": [
    "len(Counter(genre).keys())"
   ]
  },
  {
   "cell_type": "code",
   "execution_count": 128,
   "metadata": {},
   "outputs": [
    {
     "data": {
      "text/plain": [
       "271"
      ]
     },
     "execution_count": 128,
     "metadata": {},
     "output_type": "execute_result"
    }
   ],
   "source": [
    "country = []\n",
    "for i in df_clean.country:\n",
    "    for j in str(i).split(\", \"):\n",
    "        country.append(j)\n",
    "country_d = Counter(country)\n",
    "len(country_d.keys())"
   ]
  },
  {
   "cell_type": "code",
   "execution_count": 101,
   "metadata": {},
   "outputs": [],
   "source": [
    "from sklearn.preprocessing import MultiLabelBinarizer"
   ]
  },
  {
   "cell_type": "code",
   "execution_count": 120,
   "metadata": {},
   "outputs": [],
   "source": [
    "df['new_l'] = df.listed_in.apply(lambda x: list(x.split(\", \")))"
   ]
  },
  {
   "cell_type": "code",
   "execution_count": 121,
   "metadata": {},
   "outputs": [],
   "source": [
    "l = MultiLabelBinarizer()"
   ]
  },
  {
   "cell_type": "code",
   "execution_count": 122,
   "metadata": {},
   "outputs": [],
   "source": [
    "o = l.fit_transform(df.new_l)"
   ]
  },
  {
   "cell_type": "code",
   "execution_count": 123,
   "metadata": {},
   "outputs": [
    {
     "data": {
      "text/plain": [
       "(4265, 20)"
      ]
     },
     "execution_count": 123,
     "metadata": {},
     "output_type": "execute_result"
    }
   ],
   "source": [
    "o.shape"
   ]
  },
  {
   "cell_type": "code",
   "execution_count": 126,
   "metadata": {},
   "outputs": [],
   "source": [
    "res = pd.DataFrame(\n",
    "    l.fit_transform(df.new_l),\n",
    "    columns = l.classes_)"
   ]
  },
  {
   "cell_type": "code",
   "execution_count": 127,
   "metadata": {},
   "outputs": [
    {
     "data": {
      "text/html": [
       "<div>\n",
       "<style scoped>\n",
       "    .dataframe tbody tr th:only-of-type {\n",
       "        vertical-align: middle;\n",
       "    }\n",
       "\n",
       "    .dataframe tbody tr th {\n",
       "        vertical-align: top;\n",
       "    }\n",
       "\n",
       "    .dataframe thead th {\n",
       "        text-align: right;\n",
       "    }\n",
       "</style>\n",
       "<table border=\"1\" class=\"dataframe\">\n",
       "  <thead>\n",
       "    <tr style=\"text-align: right;\">\n",
       "      <th></th>\n",
       "      <th>Action &amp; Adventure</th>\n",
       "      <th>Anime Features</th>\n",
       "      <th>Children &amp; Family Movies</th>\n",
       "      <th>Classic Movies</th>\n",
       "      <th>Comedies</th>\n",
       "      <th>Cult Movies</th>\n",
       "      <th>Documentaries</th>\n",
       "      <th>Dramas</th>\n",
       "      <th>Faith &amp; Spirituality</th>\n",
       "      <th>Horror Movies</th>\n",
       "      <th>Independent Movies</th>\n",
       "      <th>International Movies</th>\n",
       "      <th>LGBTQ Movies</th>\n",
       "      <th>Movies</th>\n",
       "      <th>Music &amp; Musicals</th>\n",
       "      <th>Romantic Movies</th>\n",
       "      <th>Sci-Fi &amp; Fantasy</th>\n",
       "      <th>Sports Movies</th>\n",
       "      <th>Stand-Up Comedy</th>\n",
       "      <th>Thrillers</th>\n",
       "    </tr>\n",
       "  </thead>\n",
       "  <tbody>\n",
       "    <tr>\n",
       "      <th>0</th>\n",
       "      <td>0</td>\n",
       "      <td>0</td>\n",
       "      <td>1</td>\n",
       "      <td>0</td>\n",
       "      <td>1</td>\n",
       "      <td>0</td>\n",
       "      <td>0</td>\n",
       "      <td>0</td>\n",
       "      <td>0</td>\n",
       "      <td>0</td>\n",
       "      <td>0</td>\n",
       "      <td>0</td>\n",
       "      <td>0</td>\n",
       "      <td>0</td>\n",
       "      <td>0</td>\n",
       "      <td>0</td>\n",
       "      <td>0</td>\n",
       "      <td>0</td>\n",
       "      <td>0</td>\n",
       "      <td>0</td>\n",
       "    </tr>\n",
       "    <tr>\n",
       "      <th>1</th>\n",
       "      <td>0</td>\n",
       "      <td>0</td>\n",
       "      <td>0</td>\n",
       "      <td>0</td>\n",
       "      <td>0</td>\n",
       "      <td>0</td>\n",
       "      <td>0</td>\n",
       "      <td>0</td>\n",
       "      <td>0</td>\n",
       "      <td>0</td>\n",
       "      <td>0</td>\n",
       "      <td>0</td>\n",
       "      <td>0</td>\n",
       "      <td>0</td>\n",
       "      <td>0</td>\n",
       "      <td>0</td>\n",
       "      <td>0</td>\n",
       "      <td>0</td>\n",
       "      <td>1</td>\n",
       "      <td>0</td>\n",
       "    </tr>\n",
       "    <tr>\n",
       "      <th>2</th>\n",
       "      <td>0</td>\n",
       "      <td>0</td>\n",
       "      <td>0</td>\n",
       "      <td>0</td>\n",
       "      <td>1</td>\n",
       "      <td>0</td>\n",
       "      <td>0</td>\n",
       "      <td>0</td>\n",
       "      <td>0</td>\n",
       "      <td>0</td>\n",
       "      <td>0</td>\n",
       "      <td>0</td>\n",
       "      <td>0</td>\n",
       "      <td>0</td>\n",
       "      <td>0</td>\n",
       "      <td>0</td>\n",
       "      <td>0</td>\n",
       "      <td>0</td>\n",
       "      <td>0</td>\n",
       "      <td>0</td>\n",
       "    </tr>\n",
       "    <tr>\n",
       "      <th>3</th>\n",
       "      <td>0</td>\n",
       "      <td>0</td>\n",
       "      <td>0</td>\n",
       "      <td>0</td>\n",
       "      <td>0</td>\n",
       "      <td>0</td>\n",
       "      <td>0</td>\n",
       "      <td>0</td>\n",
       "      <td>0</td>\n",
       "      <td>0</td>\n",
       "      <td>0</td>\n",
       "      <td>1</td>\n",
       "      <td>0</td>\n",
       "      <td>0</td>\n",
       "      <td>0</td>\n",
       "      <td>0</td>\n",
       "      <td>1</td>\n",
       "      <td>0</td>\n",
       "      <td>0</td>\n",
       "      <td>1</td>\n",
       "    </tr>\n",
       "    <tr>\n",
       "      <th>4</th>\n",
       "      <td>0</td>\n",
       "      <td>0</td>\n",
       "      <td>0</td>\n",
       "      <td>0</td>\n",
       "      <td>0</td>\n",
       "      <td>0</td>\n",
       "      <td>0</td>\n",
       "      <td>0</td>\n",
       "      <td>0</td>\n",
       "      <td>0</td>\n",
       "      <td>0</td>\n",
       "      <td>0</td>\n",
       "      <td>0</td>\n",
       "      <td>0</td>\n",
       "      <td>0</td>\n",
       "      <td>0</td>\n",
       "      <td>0</td>\n",
       "      <td>0</td>\n",
       "      <td>1</td>\n",
       "      <td>0</td>\n",
       "    </tr>\n",
       "    <tr>\n",
       "      <th>...</th>\n",
       "      <td>...</td>\n",
       "      <td>...</td>\n",
       "      <td>...</td>\n",
       "      <td>...</td>\n",
       "      <td>...</td>\n",
       "      <td>...</td>\n",
       "      <td>...</td>\n",
       "      <td>...</td>\n",
       "      <td>...</td>\n",
       "      <td>...</td>\n",
       "      <td>...</td>\n",
       "      <td>...</td>\n",
       "      <td>...</td>\n",
       "      <td>...</td>\n",
       "      <td>...</td>\n",
       "      <td>...</td>\n",
       "      <td>...</td>\n",
       "      <td>...</td>\n",
       "      <td>...</td>\n",
       "      <td>...</td>\n",
       "    </tr>\n",
       "    <tr>\n",
       "      <th>4260</th>\n",
       "      <td>0</td>\n",
       "      <td>0</td>\n",
       "      <td>0</td>\n",
       "      <td>0</td>\n",
       "      <td>0</td>\n",
       "      <td>0</td>\n",
       "      <td>1</td>\n",
       "      <td>0</td>\n",
       "      <td>0</td>\n",
       "      <td>0</td>\n",
       "      <td>0</td>\n",
       "      <td>0</td>\n",
       "      <td>0</td>\n",
       "      <td>0</td>\n",
       "      <td>0</td>\n",
       "      <td>0</td>\n",
       "      <td>0</td>\n",
       "      <td>0</td>\n",
       "      <td>0</td>\n",
       "      <td>0</td>\n",
       "    </tr>\n",
       "    <tr>\n",
       "      <th>4261</th>\n",
       "      <td>0</td>\n",
       "      <td>0</td>\n",
       "      <td>0</td>\n",
       "      <td>0</td>\n",
       "      <td>1</td>\n",
       "      <td>0</td>\n",
       "      <td>0</td>\n",
       "      <td>1</td>\n",
       "      <td>0</td>\n",
       "      <td>0</td>\n",
       "      <td>1</td>\n",
       "      <td>0</td>\n",
       "      <td>0</td>\n",
       "      <td>0</td>\n",
       "      <td>0</td>\n",
       "      <td>0</td>\n",
       "      <td>0</td>\n",
       "      <td>0</td>\n",
       "      <td>0</td>\n",
       "      <td>0</td>\n",
       "    </tr>\n",
       "    <tr>\n",
       "      <th>4262</th>\n",
       "      <td>0</td>\n",
       "      <td>0</td>\n",
       "      <td>0</td>\n",
       "      <td>0</td>\n",
       "      <td>0</td>\n",
       "      <td>0</td>\n",
       "      <td>1</td>\n",
       "      <td>0</td>\n",
       "      <td>0</td>\n",
       "      <td>0</td>\n",
       "      <td>0</td>\n",
       "      <td>0</td>\n",
       "      <td>0</td>\n",
       "      <td>0</td>\n",
       "      <td>0</td>\n",
       "      <td>0</td>\n",
       "      <td>0</td>\n",
       "      <td>1</td>\n",
       "      <td>0</td>\n",
       "      <td>0</td>\n",
       "    </tr>\n",
       "    <tr>\n",
       "      <th>4263</th>\n",
       "      <td>0</td>\n",
       "      <td>0</td>\n",
       "      <td>0</td>\n",
       "      <td>0</td>\n",
       "      <td>0</td>\n",
       "      <td>0</td>\n",
       "      <td>1</td>\n",
       "      <td>0</td>\n",
       "      <td>0</td>\n",
       "      <td>0</td>\n",
       "      <td>0</td>\n",
       "      <td>0</td>\n",
       "      <td>0</td>\n",
       "      <td>0</td>\n",
       "      <td>0</td>\n",
       "      <td>0</td>\n",
       "      <td>0</td>\n",
       "      <td>0</td>\n",
       "      <td>0</td>\n",
       "      <td>0</td>\n",
       "    </tr>\n",
       "    <tr>\n",
       "      <th>4264</th>\n",
       "      <td>0</td>\n",
       "      <td>0</td>\n",
       "      <td>0</td>\n",
       "      <td>0</td>\n",
       "      <td>0</td>\n",
       "      <td>0</td>\n",
       "      <td>0</td>\n",
       "      <td>0</td>\n",
       "      <td>0</td>\n",
       "      <td>0</td>\n",
       "      <td>0</td>\n",
       "      <td>0</td>\n",
       "      <td>0</td>\n",
       "      <td>1</td>\n",
       "      <td>0</td>\n",
       "      <td>0</td>\n",
       "      <td>0</td>\n",
       "      <td>0</td>\n",
       "      <td>0</td>\n",
       "      <td>0</td>\n",
       "    </tr>\n",
       "  </tbody>\n",
       "</table>\n",
       "<p>4265 rows × 20 columns</p>\n",
       "</div>"
      ],
      "text/plain": [
       "      Action & Adventure  Anime Features  Children & Family Movies  \\\n",
       "0                      0               0                         1   \n",
       "1                      0               0                         0   \n",
       "2                      0               0                         0   \n",
       "3                      0               0                         0   \n",
       "4                      0               0                         0   \n",
       "...                  ...             ...                       ...   \n",
       "4260                   0               0                         0   \n",
       "4261                   0               0                         0   \n",
       "4262                   0               0                         0   \n",
       "4263                   0               0                         0   \n",
       "4264                   0               0                         0   \n",
       "\n",
       "      Classic Movies  Comedies  Cult Movies  Documentaries  Dramas  \\\n",
       "0                  0         1            0              0       0   \n",
       "1                  0         0            0              0       0   \n",
       "2                  0         1            0              0       0   \n",
       "3                  0         0            0              0       0   \n",
       "4                  0         0            0              0       0   \n",
       "...              ...       ...          ...            ...     ...   \n",
       "4260               0         0            0              1       0   \n",
       "4261               0         1            0              0       1   \n",
       "4262               0         0            0              1       0   \n",
       "4263               0         0            0              1       0   \n",
       "4264               0         0            0              0       0   \n",
       "\n",
       "      Faith & Spirituality  Horror Movies  Independent Movies  \\\n",
       "0                        0              0                   0   \n",
       "1                        0              0                   0   \n",
       "2                        0              0                   0   \n",
       "3                        0              0                   0   \n",
       "4                        0              0                   0   \n",
       "...                    ...            ...                 ...   \n",
       "4260                     0              0                   0   \n",
       "4261                     0              0                   1   \n",
       "4262                     0              0                   0   \n",
       "4263                     0              0                   0   \n",
       "4264                     0              0                   0   \n",
       "\n",
       "      International Movies  LGBTQ Movies  Movies  Music & Musicals  \\\n",
       "0                        0             0       0                 0   \n",
       "1                        0             0       0                 0   \n",
       "2                        0             0       0                 0   \n",
       "3                        1             0       0                 0   \n",
       "4                        0             0       0                 0   \n",
       "...                    ...           ...     ...               ...   \n",
       "4260                     0             0       0                 0   \n",
       "4261                     0             0       0                 0   \n",
       "4262                     0             0       0                 0   \n",
       "4263                     0             0       0                 0   \n",
       "4264                     0             0       1                 0   \n",
       "\n",
       "      Romantic Movies  Sci-Fi & Fantasy  Sports Movies  Stand-Up Comedy  \\\n",
       "0                   0                 0              0                0   \n",
       "1                   0                 0              0                1   \n",
       "2                   0                 0              0                0   \n",
       "3                   0                 1              0                0   \n",
       "4                   0                 0              0                1   \n",
       "...               ...               ...            ...              ...   \n",
       "4260                0                 0              0                0   \n",
       "4261                0                 0              0                0   \n",
       "4262                0                 0              1                0   \n",
       "4263                0                 0              0                0   \n",
       "4264                0                 0              0                0   \n",
       "\n",
       "      Thrillers  \n",
       "0             0  \n",
       "1             0  \n",
       "2             0  \n",
       "3             1  \n",
       "4             0  \n",
       "...         ...  \n",
       "4260          0  \n",
       "4261          0  \n",
       "4262          0  \n",
       "4263          0  \n",
       "4264          0  \n",
       "\n",
       "[4265 rows x 20 columns]"
      ]
     },
     "execution_count": 127,
     "metadata": {},
     "output_type": "execute_result"
    }
   ],
   "source": [
    "res"
   ]
  },
  {
   "cell_type": "code",
   "execution_count": 98,
   "metadata": {},
   "outputs": [
    {
     "data": {
      "text/plain": [
       "LabelBinarizer()"
      ]
     },
     "execution_count": 98,
     "metadata": {},
     "output_type": "execute_result"
    }
   ],
   "source": [
    "l.fit(df_clean.listed_in)"
   ]
  },
  {
   "cell_type": "code",
   "execution_count": 100,
   "metadata": {},
   "outputs": [
    {
     "data": {
      "text/plain": [
       "array([\"['Action & Adventure', 'Anime Features', 'Children & Family Movies']\",\n",
       "       \"['Action & Adventure', 'Anime Features', 'Classic Movies']\",\n",
       "       \"['Action & Adventure', 'Anime Features', 'Horror Movies']\",\n",
       "       \"['Action & Adventure', 'Anime Features', 'International Movies']\",\n",
       "       \"['Action & Adventure', 'Anime Features', 'Sci-Fi & Fantasy']\",\n",
       "       \"['Action & Adventure', 'Children & Family Movies', 'Classic Movies']\",\n",
       "       \"['Action & Adventure', 'Children & Family Movies', 'Comedies']\",\n",
       "       \"['Action & Adventure', 'Children & Family Movies', 'Dramas']\",\n",
       "       \"['Action & Adventure', 'Children & Family Movies', 'Independent Movies']\",\n",
       "       \"['Action & Adventure', 'Children & Family Movies', 'Sci-Fi & Fantasy']\",\n",
       "       \"['Action & Adventure', 'Children & Family Movies']\",\n",
       "       \"['Action & Adventure', 'Classic Movies', 'Comedies']\",\n",
       "       \"['Action & Adventure', 'Classic Movies', 'Cult Movies']\",\n",
       "       \"['Action & Adventure', 'Classic Movies', 'Dramas']\",\n",
       "       \"['Action & Adventure', 'Classic Movies', 'International Movies']\",\n",
       "       \"['Action & Adventure', 'Classic Movies', 'Sci-Fi & Fantasy']\",\n",
       "       \"['Action & Adventure', 'Classic Movies']\",\n",
       "       \"['Action & Adventure', 'Comedies', 'Cult Movies']\",\n",
       "       \"['Action & Adventure', 'Comedies', 'Dramas']\",\n",
       "       \"['Action & Adventure', 'Comedies', 'Horror Movies']\",\n",
       "       \"['Action & Adventure', 'Comedies', 'Independent Movies']\",\n",
       "       \"['Action & Adventure', 'Comedies', 'International Movies']\",\n",
       "       \"['Action & Adventure', 'Comedies', 'Music & Musicals']\",\n",
       "       \"['Action & Adventure', 'Comedies', 'Romantic Movies']\",\n",
       "       \"['Action & Adventure', 'Comedies', 'Sci-Fi & Fantasy']\",\n",
       "       \"['Action & Adventure', 'Comedies']\",\n",
       "       \"['Action & Adventure', 'Cult Movies', 'Dramas']\",\n",
       "       \"['Action & Adventure', 'Cult Movies', 'International Movies']\",\n",
       "       \"['Action & Adventure', 'Cult Movies', 'Sci-Fi & Fantasy']\",\n",
       "       \"['Action & Adventure', 'Cult Movies']\",\n",
       "       \"['Action & Adventure', 'Documentaries', 'International Movies']\",\n",
       "       \"['Action & Adventure', 'Documentaries', 'Sports Movies']\",\n",
       "       \"['Action & Adventure', 'Dramas', 'Faith & Spirituality']\",\n",
       "       \"['Action & Adventure', 'Dramas', 'Independent Movies']\",\n",
       "       \"['Action & Adventure', 'Dramas', 'International Movies']\",\n",
       "       \"['Action & Adventure', 'Dramas', 'Sci-Fi & Fantasy']\",\n",
       "       \"['Action & Adventure', 'Dramas']\",\n",
       "       \"['Action & Adventure', 'Faith & Spirituality', 'Sci-Fi & Fantasy']\",\n",
       "       \"['Action & Adventure', 'Horror Movies', 'Independent Movies']\",\n",
       "       \"['Action & Adventure', 'Horror Movies', 'International Movies']\",\n",
       "       \"['Action & Adventure', 'Horror Movies', 'Sci-Fi & Fantasy']\",\n",
       "       \"['Action & Adventure', 'Horror Movies']\",\n",
       "       \"['Action & Adventure', 'Independent Movies', 'International Movies']\",\n",
       "       \"['Action & Adventure', 'Independent Movies', 'Sci-Fi & Fantasy']\",\n",
       "       \"['Action & Adventure', 'Independent Movies']\",\n",
       "       \"['Action & Adventure', 'International Movies', 'Music & Musicals']\",\n",
       "       \"['Action & Adventure', 'International Movies', 'Romantic Movies']\",\n",
       "       \"['Action & Adventure', 'International Movies', 'Sci-Fi & Fantasy']\",\n",
       "       \"['Action & Adventure', 'International Movies', 'Sports Movies']\",\n",
       "       \"['Action & Adventure', 'International Movies', 'Thrillers']\",\n",
       "       \"['Action & Adventure', 'International Movies']\",\n",
       "       \"['Action & Adventure', 'Romantic Movies', 'Sci-Fi & Fantasy']\",\n",
       "       \"['Action & Adventure', 'Romantic Movies']\",\n",
       "       \"['Action & Adventure', 'Sci-Fi & Fantasy', 'Thrillers']\",\n",
       "       \"['Action & Adventure', 'Sci-Fi & Fantasy']\",\n",
       "       \"['Action & Adventure', 'Sports Movies']\",\n",
       "       \"['Action & Adventure', 'Thrillers']\", \"['Action & Adventure']\",\n",
       "       \"['Anime Features', 'Children & Family Movies', 'International Movies']\",\n",
       "       \"['Anime Features', 'Children & Family Movies']\",\n",
       "       \"['Anime Features', 'International Movies', 'Romantic Movies']\",\n",
       "       \"['Anime Features', 'International Movies']\",\n",
       "       \"['Anime Features', 'Music & Musicals', 'Sci-Fi & Fantasy']\",\n",
       "       \"['Anime Features', 'Romantic Movies']\", \"['Anime Features']\",\n",
       "       \"['Children & Family Movies', 'Classic Movies', 'Comedies']\",\n",
       "       \"['Children & Family Movies', 'Classic Movies']\",\n",
       "       \"['Children & Family Movies', 'Comedies', 'Cult Movies']\",\n",
       "       \"['Children & Family Movies', 'Comedies', 'Dramas']\",\n",
       "       \"['Children & Family Movies', 'Comedies', 'Faith & Spirituality']\",\n",
       "       \"['Children & Family Movies', 'Comedies', 'International Movies']\",\n",
       "       \"['Children & Family Movies', 'Comedies', 'LGBTQ Movies']\",\n",
       "       \"['Children & Family Movies', 'Comedies', 'Music & Musicals']\",\n",
       "       \"['Children & Family Movies', 'Comedies', 'Romantic Movies']\",\n",
       "       \"['Children & Family Movies', 'Comedies', 'Sci-Fi & Fantasy']\",\n",
       "       \"['Children & Family Movies', 'Comedies', 'Sports Movies']\",\n",
       "       \"['Children & Family Movies', 'Comedies']\",\n",
       "       \"['Children & Family Movies', 'Documentaries', 'International Movies']\",\n",
       "       \"['Children & Family Movies', 'Documentaries', 'Sports Movies']\",\n",
       "       \"['Children & Family Movies', 'Documentaries']\",\n",
       "       \"['Children & Family Movies', 'Dramas', 'Faith & Spirituality']\",\n",
       "       \"['Children & Family Movies', 'Dramas', 'Independent Movies']\",\n",
       "       \"['Children & Family Movies', 'Dramas', 'International Movies']\",\n",
       "       \"['Children & Family Movies', 'Dramas', 'Music & Musicals']\",\n",
       "       \"['Children & Family Movies', 'Dramas', 'Romantic Movies']\",\n",
       "       \"['Children & Family Movies', 'Dramas', 'Sports Movies']\",\n",
       "       \"['Children & Family Movies', 'Dramas']\",\n",
       "       \"['Children & Family Movies', 'Faith & Spirituality']\",\n",
       "       \"['Children & Family Movies', 'Independent Movies']\",\n",
       "       \"['Children & Family Movies', 'Music & Musicals']\",\n",
       "       \"['Children & Family Movies', 'Sci-Fi & Fantasy']\",\n",
       "       \"['Children & Family Movies', 'Sports Movies']\",\n",
       "       \"['Children & Family Movies']\",\n",
       "       \"['Classic Movies', 'Comedies', 'Cult Movies']\",\n",
       "       \"['Classic Movies', 'Comedies', 'Dramas']\",\n",
       "       \"['Classic Movies', 'Comedies', 'Independent Movies']\",\n",
       "       \"['Classic Movies', 'Comedies', 'International Movies']\",\n",
       "       \"['Classic Movies', 'Comedies', 'Music & Musicals']\",\n",
       "       \"['Classic Movies', 'Comedies', 'Romantic Movies']\",\n",
       "       \"['Classic Movies', 'Comedies', 'Sports Movies']\",\n",
       "       \"['Classic Movies', 'Cult Movies', 'Documentaries']\",\n",
       "       \"['Classic Movies', 'Cult Movies', 'Dramas']\",\n",
       "       \"['Classic Movies', 'Cult Movies', 'Horror Movies']\",\n",
       "       \"['Classic Movies', 'Documentaries']\",\n",
       "       \"['Classic Movies', 'Dramas', 'Independent Movies']\",\n",
       "       \"['Classic Movies', 'Dramas', 'International Movies']\",\n",
       "       \"['Classic Movies', 'Dramas', 'LGBTQ Movies']\",\n",
       "       \"['Classic Movies', 'Dramas', 'Music & Musicals']\",\n",
       "       \"['Classic Movies', 'Dramas', 'Romantic Movies']\",\n",
       "       \"['Classic Movies', 'Dramas', 'Sports Movies']\",\n",
       "       \"['Classic Movies', 'Dramas', 'Thrillers']\",\n",
       "       \"['Classic Movies', 'Dramas']\",\n",
       "       \"['Classic Movies', 'Horror Movies', 'Thrillers']\",\n",
       "       \"['Classic Movies', 'Independent Movies', 'Thrillers']\",\n",
       "       \"['Comedies', 'Cult Movies', 'Dramas']\",\n",
       "       \"['Comedies', 'Cult Movies', 'Horror Movies']\",\n",
       "       \"['Comedies', 'Cult Movies', 'Independent Movies']\",\n",
       "       \"['Comedies', 'Cult Movies', 'International Movies']\",\n",
       "       \"['Comedies', 'Cult Movies', 'LGBTQ Movies']\",\n",
       "       \"['Comedies', 'Cult Movies', 'Sports Movies']\",\n",
       "       \"['Comedies', 'Cult Movies']\", \"['Comedies', 'Documentaries']\",\n",
       "       \"['Comedies', 'Dramas', 'Faith & Spirituality']\",\n",
       "       \"['Comedies', 'Dramas', 'Independent Movies']\",\n",
       "       \"['Comedies', 'Dramas', 'International Movies']\",\n",
       "       \"['Comedies', 'Dramas', 'LGBTQ Movies']\",\n",
       "       \"['Comedies', 'Dramas', 'Music & Musicals']\",\n",
       "       \"['Comedies', 'Dramas', 'Romantic Movies']\",\n",
       "       \"['Comedies', 'Dramas', 'Sports Movies']\",\n",
       "       \"['Comedies', 'Dramas']\",\n",
       "       \"['Comedies', 'Faith & Spirituality', 'International Movies']\",\n",
       "       \"['Comedies', 'Faith & Spirituality', 'Romantic Movies']\",\n",
       "       \"['Comedies', 'Horror Movies', 'Independent Movies']\",\n",
       "       \"['Comedies', 'Horror Movies', 'International Movies']\",\n",
       "       \"['Comedies', 'Horror Movies', 'Sci-Fi & Fantasy']\",\n",
       "       \"['Comedies', 'Horror Movies']\",\n",
       "       \"['Comedies', 'Independent Movies', 'International Movies']\",\n",
       "       \"['Comedies', 'Independent Movies', 'LGBTQ Movies']\",\n",
       "       \"['Comedies', 'Independent Movies', 'Music & Musicals']\",\n",
       "       \"['Comedies', 'Independent Movies', 'Romantic Movies']\",\n",
       "       \"['Comedies', 'Independent Movies', 'Thrillers']\",\n",
       "       \"['Comedies', 'Independent Movies']\",\n",
       "       \"['Comedies', 'International Movies', 'LGBTQ Movies']\",\n",
       "       \"['Comedies', 'International Movies', 'Music & Musicals']\",\n",
       "       \"['Comedies', 'International Movies', 'Romantic Movies']\",\n",
       "       \"['Comedies', 'International Movies', 'Sci-Fi & Fantasy']\",\n",
       "       \"['Comedies', 'International Movies', 'Sports Movies']\",\n",
       "       \"['Comedies', 'International Movies', 'Thrillers']\",\n",
       "       \"['Comedies', 'International Movies']\",\n",
       "       \"['Comedies', 'LGBTQ Movies']\",\n",
       "       \"['Comedies', 'Music & Musicals', 'Romantic Movies']\",\n",
       "       \"['Comedies', 'Music & Musicals', 'Sports Movies']\",\n",
       "       \"['Comedies', 'Music & Musicals']\",\n",
       "       \"['Comedies', 'Romantic Movies']\",\n",
       "       \"['Comedies', 'Sci-Fi & Fantasy']\",\n",
       "       \"['Comedies', 'Sports Movies']\", \"['Comedies']\",\n",
       "       \"['Cult Movies', 'Dramas', 'Independent Movies']\",\n",
       "       \"['Cult Movies', 'Dramas', 'Thrillers']\",\n",
       "       \"['Cult Movies', 'Horror Movies', 'Independent Movies']\",\n",
       "       \"['Cult Movies', 'Horror Movies', 'Thrillers']\",\n",
       "       \"['Cult Movies', 'Horror Movies']\",\n",
       "       \"['Cult Movies', 'Independent Movies', 'Thrillers']\",\n",
       "       \"['Documentaries', 'Dramas', 'International Movies']\",\n",
       "       \"['Documentaries', 'Faith & Spirituality', 'International Movies']\",\n",
       "       \"['Documentaries', 'Faith & Spirituality', 'Music & Musicals']\",\n",
       "       \"['Documentaries', 'Faith & Spirituality']\",\n",
       "       \"['Documentaries', 'Horror Movies']\",\n",
       "       \"['Documentaries', 'International Movies', 'LGBTQ Movies']\",\n",
       "       \"['Documentaries', 'International Movies', 'Music & Musicals']\",\n",
       "       \"['Documentaries', 'International Movies', 'Sports Movies']\",\n",
       "       \"['Documentaries', 'International Movies']\",\n",
       "       \"['Documentaries', 'LGBTQ Movies', 'Music & Musicals']\",\n",
       "       \"['Documentaries', 'LGBTQ Movies']\",\n",
       "       \"['Documentaries', 'Music & Musicals']\",\n",
       "       \"['Documentaries', 'Sports Movies']\",\n",
       "       \"['Documentaries', 'Stand-Up Comedy']\", \"['Documentaries']\",\n",
       "       \"['Dramas', 'Faith & Spirituality', 'Independent Movies']\",\n",
       "       \"['Dramas', 'Faith & Spirituality', 'International Movies']\",\n",
       "       \"['Dramas', 'Faith & Spirituality', 'Romantic Movies']\",\n",
       "       \"['Dramas', 'Faith & Spirituality']\",\n",
       "       \"['Dramas', 'Horror Movies', 'Music & Musicals']\",\n",
       "       \"['Dramas', 'Horror Movies', 'Sci-Fi & Fantasy']\",\n",
       "       \"['Dramas', 'Independent Movies', 'International Movies']\",\n",
       "       \"['Dramas', 'Independent Movies', 'LGBTQ Movies']\",\n",
       "       \"['Dramas', 'Independent Movies', 'Music & Musicals']\",\n",
       "       \"['Dramas', 'Independent Movies', 'Romantic Movies']\",\n",
       "       \"['Dramas', 'Independent Movies', 'Sci-Fi & Fantasy']\",\n",
       "       \"['Dramas', 'Independent Movies', 'Sports Movies']\",\n",
       "       \"['Dramas', 'Independent Movies', 'Thrillers']\",\n",
       "       \"['Dramas', 'Independent Movies']\",\n",
       "       \"['Dramas', 'International Movies', 'LGBTQ Movies']\",\n",
       "       \"['Dramas', 'International Movies', 'Music & Musicals']\",\n",
       "       \"['Dramas', 'International Movies', 'Romantic Movies']\",\n",
       "       \"['Dramas', 'International Movies', 'Sci-Fi & Fantasy']\",\n",
       "       \"['Dramas', 'International Movies', 'Sports Movies']\",\n",
       "       \"['Dramas', 'International Movies', 'Thrillers']\",\n",
       "       \"['Dramas', 'International Movies']\", \"['Dramas', 'LGBTQ Movies']\",\n",
       "       \"['Dramas', 'Music & Musicals', 'Romantic Movies']\",\n",
       "       \"['Dramas', 'Music & Musicals', 'Sports Movies']\",\n",
       "       \"['Dramas', 'Music & Musicals']\",\n",
       "       \"['Dramas', 'Romantic Movies', 'Sci-Fi & Fantasy']\",\n",
       "       \"['Dramas', 'Romantic Movies', 'Sports Movies']\",\n",
       "       \"['Dramas', 'Romantic Movies']\",\n",
       "       \"['Dramas', 'Sci-Fi & Fantasy', 'Thrillers']\",\n",
       "       \"['Dramas', 'Sci-Fi & Fantasy']\", \"['Dramas', 'Sports Movies']\",\n",
       "       \"['Dramas', 'Thrillers']\", \"['Dramas']\",\n",
       "       \"['Horror Movies', 'Independent Movies', 'International Movies']\",\n",
       "       \"['Horror Movies', 'Independent Movies', 'Sci-Fi & Fantasy']\",\n",
       "       \"['Horror Movies', 'Independent Movies', 'Thrillers']\",\n",
       "       \"['Horror Movies', 'Independent Movies']\",\n",
       "       \"['Horror Movies', 'International Movies', 'Romantic Movies']\",\n",
       "       \"['Horror Movies', 'International Movies', 'Sci-Fi & Fantasy']\",\n",
       "       \"['Horror Movies', 'International Movies', 'Thrillers']\",\n",
       "       \"['Horror Movies', 'International Movies']\",\n",
       "       \"['Horror Movies', 'LGBTQ Movies', 'Thrillers']\",\n",
       "       \"['Horror Movies', 'Sci-Fi & Fantasy', 'Thrillers']\",\n",
       "       \"['Horror Movies', 'Sci-Fi & Fantasy']\",\n",
       "       \"['Horror Movies', 'Thrillers']\", \"['Horror Movies']\",\n",
       "       \"['Independent Movies', 'International Movies', 'Thrillers']\",\n",
       "       \"['Independent Movies', 'Romantic Movies']\",\n",
       "       \"['Independent Movies', 'Sci-Fi & Fantasy', 'Thrillers']\",\n",
       "       \"['Independent Movies', 'Thrillers']\", \"['Independent Movies']\",\n",
       "       \"['International Movies', 'LGBTQ Movies', 'Romantic Movies']\",\n",
       "       \"['International Movies', 'Music & Musicals', 'Romantic Movies']\",\n",
       "       \"['International Movies', 'Music & Musicals', 'Thrillers']\",\n",
       "       \"['International Movies', 'Music & Musicals']\",\n",
       "       \"['International Movies', 'Romantic Movies', 'Sci-Fi & Fantasy']\",\n",
       "       \"['International Movies', 'Romantic Movies']\",\n",
       "       \"['International Movies', 'Sci-Fi & Fantasy', 'Thrillers']\",\n",
       "       \"['International Movies', 'Sci-Fi & Fantasy']\",\n",
       "       \"['International Movies', 'Sports Movies']\",\n",
       "       \"['International Movies', 'Thrillers']\",\n",
       "       \"['International Movies']\", \"['Movies']\",\n",
       "       \"['Music & Musicals', 'Stand-Up Comedy']\", \"['Music & Musicals']\",\n",
       "       \"['Romantic Movies']\", \"['Sci-Fi & Fantasy', 'Thrillers']\",\n",
       "       \"['Sci-Fi & Fantasy']\", \"['Sports Movies']\", \"['Stand-Up Comedy']\",\n",
       "       \"['Thrillers']\"], dtype='<U72')"
      ]
     },
     "execution_count": 100,
     "metadata": {},
     "output_type": "execute_result"
    }
   ],
   "source": [
    "l.classes_"
   ]
  }
 ],
 "metadata": {
  "kernelspec": {
   "display_name": "Python 3",
   "language": "python",
   "name": "python3"
  },
  "language_info": {
   "codemirror_mode": {
    "name": "ipython",
    "version": 3
   },
   "file_extension": ".py",
   "mimetype": "text/x-python",
   "name": "python",
   "nbconvert_exporter": "python",
   "pygments_lexer": "ipython3",
   "version": "3.8.3"
  }
 },
 "nbformat": 4,
 "nbformat_minor": 4
}
